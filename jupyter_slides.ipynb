{
 "cells": [
  {
   "cell_type": "markdown",
   "metadata": {
    "slideshow": {
     "slide_type": "slide"
    }
   },
   "source": [
    "# Jupyter+Slideをもっと便利に"
   ]
  },
  {
   "cell_type": "markdown",
   "metadata": {
    "slideshow": {
     "slide_type": "slide"
    }
   },
   "source": [
    "### デフォルトにあるSlide機能\n",
    "\n",
    "* convert/serveがめんどい\n",
    "* コード部分いらない\n",
    "* スタイルがイマイチ"
   ]
  },
  {
   "cell_type": "markdown",
   "metadata": {
    "slideshow": {
     "slide_type": "slide"
    }
   },
   "source": [
    "### RISE\n",
    "\n",
    "* reveal.jsベース\n",
    "* Notebook上からボタン一発でスライドに切り替え\n",
    "* スライド上からコードを実行できる\n",
    "\n",
    "> https://github.com/damianavila/RISE"
   ]
  },
  {
   "cell_type": "markdown",
   "metadata": {
    "slideshow": {
     "slide_type": "subslide"
    }
   },
   "source": [
    "#### Install\n",
    "\n",
    "```bash\n",
    "pip install RISE\n",
    "jupyter-nbextension install rise --py --sys-prefix\n",
    "jupyter-nbextension enable rise --py --sys-prefix\n",
    "```"
   ]
  },
  {
   "cell_type": "markdown",
   "metadata": {
    "slideshow": {
     "slide_type": "slide"
    }
   },
   "source": [
    "### コードの実行デモ"
   ]
  },
  {
   "cell_type": "code",
   "execution_count": 1,
   "metadata": {
    "slideshow": {
     "slide_type": "subslide"
    }
   },
   "outputs": [
    {
     "data": {
      "application/vnd.jupyter.widget-view+json": {
       "model_id": "f89a4211da4c42c09ea03ce4e4d7f7f2",
       "version_major": 2,
       "version_minor": 0
      },
      "text/plain": [
       "interactive(children=(IntSlider(value=5, description='theta', max=10, min=1), Output()), _dom_classes=('widget…"
      ]
     },
     "metadata": {},
     "output_type": "display_data"
    }
   ],
   "source": [
    "%matplotlib inline\n",
    "import numpy as np\n",
    "import matplotlib.pyplot as plt\n",
    "from ipywidgets import interact\n",
    "\n",
    "\n",
    "@interact(theta=(1, 10, 1))\n",
    "def f(theta):\n",
    "    x = np.linspace(-1, 1, 100)\n",
    "    y = [np.sin(theta * x_) ** 2 for x_ in x]\n",
    "    plt.plot(x, y)"
   ]
  },
  {
   "cell_type": "markdown",
   "metadata": {
    "hide_input": true,
    "slideshow": {
     "slide_type": "slide"
    }
   },
   "source": [
    "### Hide input / Hide input All\n",
    "\n",
    "* nbextensions\n",
    "* コード部分を隠せる\n",
    "* Hide input  \n",
    "  -> 特定のセルのコードを隠す\n",
    "* Hide input All  \n",
    "  -> Notebook上のすべてのコードを隠す\n",
    "* 静的に隠した状態を保存できないので、なにか方法がないか検討ちう"
   ]
  },
  {
   "cell_type": "markdown",
   "metadata": {
    "slideshow": {
     "slide_type": "subslide"
    }
   },
   "source": [
    "### コードを隠した例\n",
    "\n",
    "現状ではRISEでしかできない？"
   ]
  },
  {
   "cell_type": "code",
   "execution_count": 2,
   "metadata": {
    "hide_input": false,
    "slideshow": {
     "slide_type": "fragment"
    }
   },
   "outputs": [
    {
     "data": {
      "image/png": "[encoded data removed]",
      "text/plain": [
       "<matplotlib.figure.Figure at 0x7efe7765ca20>"
      ]
     },
     "metadata": {},
     "output_type": "display_data"
    }
   ],
   "source": [
    "fig = plt.figure()\n",
    "ax = fig.add_subplot(1, 1, 1)\n",
    "ax.plot([1, 2])\n",
    "plt.show()"
   ]
  },
  {
   "cell_type": "markdown",
   "metadata": {
    "slideshow": {
     "slide_type": "slide"
    }
   },
   "source": [
    "### IPython.display.HTML, %%HTML(Cell Magic)\n",
    "\n",
    "* HTML記法の内容を出力できる\n",
    "* Markdownで表現できない部分を補える\n",
    "* スタイルを変更できる"
   ]
  },
  {
   "cell_type": "code",
   "execution_count": 3,
   "metadata": {
    "slideshow": {
     "slide_type": "subslide"
    }
   },
   "outputs": [
    {
     "data": {
      "text/html": [
       "<font color=\"#ff0000\">red</font>"
      ],
      "text/plain": [
       "<IPython.core.display.HTML object>"
      ]
     },
     "execution_count": 3,
     "metadata": {},
     "output_type": "execute_result"
    }
   ],
   "source": [
    "from IPython.display import HTML\n",
    "\n",
    "HTML('<font color=\"#ff0000\">red</font>')"
   ]
  },
  {
   "cell_type": "code",
   "execution_count": 4,
   "metadata": {
    "slideshow": {
     "slide_type": "fragment"
    }
   },
   "outputs": [
    {
     "data": {
      "text/html": [
       "<font color=\"#ff0000\">red</font>"
      ],
      "text/plain": [
       "<IPython.core.display.HTML object>"
      ]
     },
     "metadata": {},
     "output_type": "display_data"
    }
   ],
   "source": [
    "%%HTML\n",
    "<font color=\"#ff0000\">red</font>"
   ]
  },
  {
   "cell_type": "markdown",
   "metadata": {
    "slideshow": {
     "slide_type": "slide"
    }
   },
   "source": [
    "### IPython.display.IFrame\n",
    "\n",
    "* 指定したURLからHTMLとして埋め込める\n",
    "* サイトの紹介をしたいときなどに便利"
   ]
  },
  {
   "cell_type": "code",
   "execution_count": 5,
   "metadata": {
    "slideshow": {
     "slide_type": "subslide"
    }
   },
   "outputs": [
    {
     "data": {
      "text/html": [
       "\n",
       "        <iframe\n",
       "            width=\"600\"\n",
       "            height=\"400\"\n",
       "            src=\"https://python.jp\"\n",
       "            frameborder=\"0\"\n",
       "            allowfullscreen\n",
       "        ></iframe>\n",
       "        "
      ],
      "text/plain": [
       "<IPython.lib.display.IFrame at 0x7efe776776d8>"
      ]
     },
     "execution_count": 5,
     "metadata": {},
     "output_type": "execute_result"
    }
   ],
   "source": [
    "from IPython.display import IFrame\n",
    "\n",
    "IFrame('https://python.jp', 600, 400)"
   ]
  },
  {
   "cell_type": "markdown",
   "metadata": {
    "slideshow": {
     "slide_type": "slide"
    }
   },
   "source": [
    "### IPython.display.Video\n",
    "* ローカルにある動画を埋め込める\n",
    "* デモが難しい場合などに便利そう"
   ]
  },
  {
   "cell_type": "code",
   "execution_count": 6,
   "metadata": {
    "slideshow": {
     "slide_type": "subslide"
    }
   },
   "outputs": [
    {
     "data": {
      "text/html": [
       "<video src=\"nc27125.mp4\" controls>\n",
       "      Your browser does not support the <code>video</code> element.\n",
       "    </video>"
      ],
      "text/plain": [
       "<IPython.core.display.Video object>"
      ]
     },
     "execution_count": 6,
     "metadata": {},
     "output_type": "execute_result"
    }
   ],
   "source": [
    "from IPython.display import Video\n",
    "\n",
    "Video('nc27125.mp4')"
   ]
  },
  {
   "cell_type": "markdown",
   "metadata": {
    "slideshow": {
     "slide_type": "slide"
    }
   },
   "source": [
    "### IPython.display.YouTubeVideo\n",
    "\n",
    "* YouTubeの動画を埋め込める\n",
    "* プロモーションビデオなどが既にある場合などに便利そう"
   ]
  },
  {
   "cell_type": "code",
   "execution_count": 7,
   "metadata": {
    "slideshow": {
     "slide_type": "subslide"
    }
   },
   "outputs": [
    {
     "data": {
      "image/jpeg": "[encoded data removed]",
      "text/html": [
       "\n",
       "        <iframe\n",
       "            width=\"400\"\n",
       "            height=\"300\"\n",
       "            src=\"https://www.youtube.com/embed/sXyFa_r1nxA\"\n",
       "            frameborder=\"0\"\n",
       "            allowfullscreen\n",
       "        ></iframe>\n",
       "        "
      ],
      "text/plain": [
       "<IPython.lib.display.YouTubeVideo at 0x7efe776771d0>"
      ]
     },
     "execution_count": 7,
     "metadata": {},
     "output_type": "execute_result"
    }
   ],
   "source": [
    "from IPython.display import YouTubeVideo\n",
    "\n",
    "YouTubeVideo('sXyFa_r1nxA')"
   ]
  },
  {
   "cell_type": "markdown",
   "metadata": {
    "slideshow": {
     "slide_type": "slide"
    }
   },
   "source": [
    "### IPython.display.Markdown\n",
    "\n",
    "* Markdown記法の内容を出力できる\n",
    "* コードの実行結果を埋め込みたい場合などに便利"
   ]
  },
  {
   "cell_type": "code",
   "execution_count": 8,
   "metadata": {
    "slideshow": {
     "slide_type": "subslide"
    }
   },
   "outputs": [
    {
     "data": {
      "text/markdown": [
       "\n",
       "* 今日は05月05日です\n",
       "* いまは15時42分です\n"
      ],
      "text/plain": [
       "<IPython.core.display.Markdown object>"
      ]
     },
     "execution_count": 8,
     "metadata": {},
     "output_type": "execute_result"
    }
   ],
   "source": [
    "from IPython.display import Markdown\n",
    "from datetime import datetime\n",
    "\n",
    "Markdown('''\n",
    "* 今日は{0:%m}月{0:%d}日です\n",
    "* いまは{0:%H}時{0:%M}分です\n",
    "'''.format(datetime.today()))"
   ]
  },
  {
   "cell_type": "markdown",
   "metadata": {
    "slideshow": {
     "slide_type": "slide"
    }
   },
   "source": [
    "### jinja2\n",
    "\n",
    "* テンプレートエンジン\n",
    "* HTMLとMarkdownなどを組み合わせると色々できそう\n",
    "* 自己紹介などテンプレ的なものを作っておくと便利そう"
   ]
  },
  {
   "cell_type": "code",
   "execution_count": 9,
   "metadata": {
    "slideshow": {
     "slide_type": "subslide"
    }
   },
   "outputs": [
    {
     "name": "stdout",
     "output_type": "stream",
     "text": [
      "井上喜久子 さんは 17 歳です。\n"
     ]
    }
   ],
   "source": [
    "from jinja2 import Template\n",
    "\n",
    "name = '井上喜久子'\n",
    "age = (datetime.today() - datetime(1964, 9, 25)).days // 365\n",
    "age = 17\n",
    "data = {'age': age, 'name': name}\n",
    "tpl = Template('{{ name }} さんは {{ age }} 歳です。')\n",
    "print(tpl.render(data))"
   ]
  },
  {
   "cell_type": "markdown",
   "metadata": {
    "slideshow": {
     "slide_type": "slide"
    }
   },
   "source": [
    "### pandas.DataFrame.style\n",
    "\n",
    "* pandasのDataFrameにさまざまなスタイルを設定できる\n",
    "* 表中から特定の箇所を強調するなどに便利"
   ]
  },
  {
   "cell_type": "code",
   "execution_count": 10,
   "metadata": {
    "slideshow": {
     "slide_type": "subslide"
    }
   },
   "outputs": [
    {
     "data": {
      "text/html": [
       "<style  type=\"text/css\" >\n",
       "    #T_8c3f9b98_502f_11e8_a421_002710e3a2d8row0_col0 {\n",
       "            background-color:  yellow;\n",
       "        }    #T_8c3f9b98_502f_11e8_a421_002710e3a2d8row2_col2 {\n",
       "            background-color:  yellow;\n",
       "        }    #T_8c3f9b98_502f_11e8_a421_002710e3a2d8row2_col3 {\n",
       "            background-color:  yellow;\n",
       "        }    #T_8c3f9b98_502f_11e8_a421_002710e3a2d8row3_col1 {\n",
       "            background-color:  yellow;\n",
       "        }</style>  \n",
       "<table id=\"T_8c3f9b98_502f_11e8_a421_002710e3a2d8\" > \n",
       "<thead>    <tr> \n",
       "        <th class=\"blank level0\" ></th> \n",
       "        <th class=\"col_heading level0 col0\" >0</th> \n",
       "        <th class=\"col_heading level0 col1\" >1</th> \n",
       "        <th class=\"col_heading level0 col2\" >2</th> \n",
       "        <th class=\"col_heading level0 col3\" >3</th> \n",
       "    </tr></thead> \n",
       "<tbody>    <tr> \n",
       "        <th id=\"T_8c3f9b98_502f_11e8_a421_002710e3a2d8level0_row0\" class=\"row_heading level0 row0\" >0</th> \n",
       "        <td id=\"T_8c3f9b98_502f_11e8_a421_002710e3a2d8row0_col0\" class=\"data row0 col0\" >0.856196</td> \n",
       "        <td id=\"T_8c3f9b98_502f_11e8_a421_002710e3a2d8row0_col1\" class=\"data row0 col1\" >0.783144</td> \n",
       "        <td id=\"T_8c3f9b98_502f_11e8_a421_002710e3a2d8row0_col2\" class=\"data row0 col2\" >0.281343</td> \n",
       "        <td id=\"T_8c3f9b98_502f_11e8_a421_002710e3a2d8row0_col3\" class=\"data row0 col3\" >0.373142</td> \n",
       "    </tr>    <tr> \n",
       "        <th id=\"T_8c3f9b98_502f_11e8_a421_002710e3a2d8level0_row1\" class=\"row_heading level0 row1\" >1</th> \n",
       "        <td id=\"T_8c3f9b98_502f_11e8_a421_002710e3a2d8row1_col0\" class=\"data row1 col0\" >0.398269</td> \n",
       "        <td id=\"T_8c3f9b98_502f_11e8_a421_002710e3a2d8row1_col1\" class=\"data row1 col1\" >0.706975</td> \n",
       "        <td id=\"T_8c3f9b98_502f_11e8_a421_002710e3a2d8row1_col2\" class=\"data row1 col2\" >0.0859492</td> \n",
       "        <td id=\"T_8c3f9b98_502f_11e8_a421_002710e3a2d8row1_col3\" class=\"data row1 col3\" >0.313883</td> \n",
       "    </tr>    <tr> \n",
       "        <th id=\"T_8c3f9b98_502f_11e8_a421_002710e3a2d8level0_row2\" class=\"row_heading level0 row2\" >2</th> \n",
       "        <td id=\"T_8c3f9b98_502f_11e8_a421_002710e3a2d8row2_col0\" class=\"data row2 col0\" >0.0620631</td> \n",
       "        <td id=\"T_8c3f9b98_502f_11e8_a421_002710e3a2d8row2_col1\" class=\"data row2 col1\" >0.217332</td> \n",
       "        <td id=\"T_8c3f9b98_502f_11e8_a421_002710e3a2d8row2_col2\" class=\"data row2 col2\" >0.990407</td> \n",
       "        <td id=\"T_8c3f9b98_502f_11e8_a421_002710e3a2d8row2_col3\" class=\"data row2 col3\" >0.622948</td> \n",
       "    </tr>    <tr> \n",
       "        <th id=\"T_8c3f9b98_502f_11e8_a421_002710e3a2d8level0_row3\" class=\"row_heading level0 row3\" >3</th> \n",
       "        <td id=\"T_8c3f9b98_502f_11e8_a421_002710e3a2d8row3_col0\" class=\"data row3 col0\" >0.22312</td> \n",
       "        <td id=\"T_8c3f9b98_502f_11e8_a421_002710e3a2d8row3_col1\" class=\"data row3 col1\" >0.836461</td> \n",
       "        <td id=\"T_8c3f9b98_502f_11e8_a421_002710e3a2d8row3_col2\" class=\"data row3 col2\" >0.323799</td> \n",
       "        <td id=\"T_8c3f9b98_502f_11e8_a421_002710e3a2d8row3_col3\" class=\"data row3 col3\" >0.0790808</td> \n",
       "    </tr></tbody> \n",
       "</table> "
      ],
      "text/plain": [
       "<pandas.io.formats.style.Styler at 0x7efea01c3fd0>"
      ]
     },
     "execution_count": 10,
     "metadata": {},
     "output_type": "execute_result"
    }
   ],
   "source": [
    "import pandas as pd\n",
    "\n",
    "\n",
    "def highlight_max(s):\n",
    "    is_max = s == s.max()\n",
    "    return ['background-color: yellow' if v else '' for v in is_max]\n",
    "\n",
    "\n",
    "df = pd.DataFrame(np.random.rand(4, 4))\n",
    "df.style.apply(highlight_max)"
   ]
  },
  {
   "cell_type": "markdown",
   "metadata": {
    "slideshow": {
     "slide_type": "slide"
    }
   },
   "source": [
    "### Hosting\n",
    "\n",
    "SlideShareやSpeakerDeckのようなシェアする方法がない  \n",
    "HTMLとしてはできるが、スライド形式ではない\n",
    "\n",
    "少々無理やりだがやりようがある\n",
    "\n",
    "1. ipynb -> htmlにコンバート\n",
    "2. reveal.jsの環境をclone\n",
    "3. gh-pagesなどにpush\n",
    "\n",
    "> 参考: http://www.procrasist.com/entry/5-jupyter-slide"
   ]
  },
  {
   "cell_type": "markdown",
   "metadata": {
    "slideshow": {
     "slide_type": "subslide"
    }
   },
   "source": [
    "### TBD\n",
    "\n",
    "シェアすることまで考えると  \n",
    ".ipynb -> .md -> GitPitch  \n",
    "の流れが楽そうな気がしてきた\n",
    "\n",
    "気が向いたらGitPitch用のconvertツールを作るかも？"
   ]
  }
 ],
 "metadata": {
  "celltoolbar": "Slideshow",
  "hide_input": false,
  "kernelspec": {
   "display_name": "Python 3",
   "language": "python",
   "name": "python3"
  },
  "language_info": {
   "codemirror_mode": {
    "name": "ipython",
    "version": 3
   },
   "file_extension": ".py",
   "mimetype": "text/x-python",
   "name": "python",
   "nbconvert_exporter": "python",
   "pygments_lexer": "ipython3",
   "version": "3.6.3"
  },
  "varInspector": {
   "cols": {
    "lenName": 16,
    "lenType": 16,
    "lenVar": 40
   },
   "kernels_config": {
    "python": {
     "delete_cmd_postfix": "",
     "delete_cmd_prefix": "del ",
     "library": "var_list.py",
     "varRefreshCmd": "print(var_dic_list())"
    },
    "r": {
     "delete_cmd_postfix": ") ",
     "delete_cmd_prefix": "rm(",
     "library": "var_list.r",
     "varRefreshCmd": "cat(var_dic_list()) "
    }
   },
   "types_to_exclude": [
    "module",
    "function",
    "builtin_function_or_method",
    "instance",
    "_Feature"
   ],
   "window_display": false
  }
 },
 "nbformat": 4,
 "nbformat_minor": 2
}
